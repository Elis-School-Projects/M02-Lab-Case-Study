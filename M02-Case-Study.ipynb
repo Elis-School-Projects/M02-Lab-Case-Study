{
 "cells": [
  {
   "cell_type": "code",
   "execution_count": 3,
   "id": "44326bf7-e8b2-4f16-93df-ae9b2aff2aa6",
   "metadata": {},
   "outputs": [
    {
     "name": "stdin",
     "output_type": "stream",
     "text": [
      "What is the student's last name? (ZZZ to quit):  Miller\n",
      "What is the student's first name?:  Steve\n",
      "What is the student's GPA?:  3.5\n"
     ]
    },
    {
     "name": "stdout",
     "output_type": "stream",
     "text": [
      "Steve Miller has made the Dean's List!\n"
     ]
    },
    {
     "name": "stdin",
     "output_type": "stream",
     "text": [
      "What is the student's last name? (ZZZ to quit):  Shultz\n",
      "What is the student's first name?:  Dave\n",
      "What is the student's GPA?:  3.9\n"
     ]
    },
    {
     "name": "stdout",
     "output_type": "stream",
     "text": [
      "Dave Shultz has made the Dean's List!\n"
     ]
    },
    {
     "name": "stdin",
     "output_type": "stream",
     "text": [
      "What is the student's last name? (ZZZ to quit):  Ray\n",
      "What is the student's first name?:  Ava\n",
      "What is the student's GPA?:  3.3\n"
     ]
    },
    {
     "name": "stdout",
     "output_type": "stream",
     "text": [
      "Ava Ray has made the Honor Roll!\n"
     ]
    },
    {
     "name": "stdin",
     "output_type": "stream",
     "text": [
      "What is the student's last name? (ZZZ to quit):  Grove\n",
      "What is the student's first name?:  Dakota\n",
      "What is the student's GPA?:  3.25\n"
     ]
    },
    {
     "name": "stdout",
     "output_type": "stream",
     "text": [
      "Dakota Grove has made the Honor Roll!\n"
     ]
    },
    {
     "name": "stdin",
     "output_type": "stream",
     "text": [
      "What is the student's last name? (ZZZ to quit):  Rhodes\n",
      "What is the student's first name?:  Amanda\n",
      "What is the student's GPA?:  3\n"
     ]
    },
    {
     "name": "stdout",
     "output_type": "stream",
     "text": [
      "Amanda Rhodes did not make the Honor Roll or the Dean's List.\n"
     ]
    },
    {
     "name": "stdin",
     "output_type": "stream",
     "text": [
      "What is the student's last name? (ZZZ to quit):  ZZZ\n"
     ]
    }
   ],
   "source": [
    "# Name: Eli Walters\n",
    "# File Name: M02-Case-Study.py\n",
    "# Description: This application will accept student names and GPAs and test \n",
    "# if the student qualifies for either the Dean's List or the Honor Roll\n",
    "\n",
    "while True:\n",
    "    lname = str(input(\"What is the student's last name? (ZZZ to quit): \"))\n",
    "\n",
    "    if lname == \"ZZZ\":\n",
    "        break\n",
    "\n",
    "    fname = str(input(\"What is the student's first name?: \"))\n",
    "    gpa = float(input(\"What is the student's GPA?: \"))\n",
    "\n",
    "    if gpa >= 3.5:\n",
    "        print(f\"{fname} {lname} has made the Dean's List!\")\n",
    "    elif gpa >= 3.25:\n",
    "        print(f\"{fname} {lname} has made the Honor Roll!\")\n",
    "    else:\n",
    "        print(f\"{fname} {lname} did not make the Honor Roll or the Dean's List.\")"
   ]
  },
  {
   "cell_type": "code",
   "execution_count": null,
   "id": "78411ada-5c18-4466-8020-0d133919ecb0",
   "metadata": {},
   "outputs": [],
   "source": []
  }
 ],
 "metadata": {
  "kernelspec": {
   "display_name": "Python 3 (ipykernel)",
   "language": "python",
   "name": "python3"
  },
  "language_info": {
   "codemirror_mode": {
    "name": "ipython",
    "version": 3
   },
   "file_extension": ".py",
   "mimetype": "text/x-python",
   "name": "python",
   "nbconvert_exporter": "python",
   "pygments_lexer": "ipython3",
   "version": "3.11.7"
  }
 },
 "nbformat": 4,
 "nbformat_minor": 5
}
